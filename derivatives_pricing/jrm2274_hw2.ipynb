{
 "cells": [
  {
   "cell_type": "markdown",
   "metadata": {},
   "source": [
    "# COMS W1002 Computing in Context: Computational Finance  \n",
    "## Professor Karl Sigman\n",
    "## Option Pricing Using Monte Carlo Simulation"
   ]
  },
  {
   "cell_type": "markdown",
   "metadata": {},
   "source": [
    "__Problem 1:__ For the values of $p=0.5$ and $p=0.75$ obtain an estimate of $p$ by using Monte Carlo Simulation with $n=100, n=1000, n=10,000$ You will generate $n$ _iid_ Bernoulli $(p)$ random variables $B_1, ..., B_n$ and use as the estimate $$ \\hat{p}= \\frac{1}{n}\\sum_{i=1}^{n}B_i $$ \n",
    "This is to show you (convince you) how accurate the Monte Carlo method can be, and how the Strong Law of Large Numbers (SLLN) works in practice."
   ]
  },
  {
   "cell_type": "code",
   "execution_count": 13,
   "metadata": {},
   "outputs": [],
   "source": [
    "import random\n",
    "import numpy as np\n",
    "import math"
   ]
  },
  {
   "cell_type": "code",
   "execution_count": 128,
   "metadata": {},
   "outputs": [
    {
     "data": {
      "text/plain": [
       "0"
      ]
     },
     "execution_count": 128,
     "metadata": {},
     "output_type": "execute_result"
    }
   ],
   "source": [
    "# p = .5\n",
    "\n",
    "# a single bernoulli rv with probability .5 \n",
    "\n",
    "def bern(p):\n",
    "    # generate a random decimal between 0 and 1\n",
    "    U = random.random()\n",
    "    # condition for successful trial\n",
    "    if U<=p:\n",
    "        #success = 1\n",
    "        return 1\n",
    "    return 0\n",
    "\n",
    "bern(.5)\n"
   ]
  },
  {
   "cell_type": "code",
   "execution_count": 117,
   "metadata": {},
   "outputs": [
    {
     "data": {
      "text/plain": [
       "1"
      ]
     },
     "execution_count": 117,
     "metadata": {},
     "output_type": "execute_result"
    }
   ],
   "source": [
    "# p = .75\n",
    "\n",
    "# a single bernoulli rv with probability .75 \n",
    "\n",
    "bern(.75)"
   ]
  },
  {
   "cell_type": "code",
   "execution_count": 129,
   "metadata": {},
   "outputs": [
    {
     "name": "stdout",
     "output_type": "stream",
     "text": [
      "Of  100  trials with probability 0.5 the number of successful trials, where (U <= p) was  48\n"
     ]
    },
    {
     "data": {
      "text/plain": [
       "(48, 0.48)"
      ]
     },
     "execution_count": 129,
     "metadata": {},
     "output_type": "execute_result"
    }
   ],
   "source": [
    "# n = 100, p = .5\n",
    "# counts number of successful bernoulli trials divided by total trials n\n",
    "\n",
    "# set probability to .5\n",
    "p = .5\n",
    "\n",
    "# a function that returns the ratio of successful trials N to total trials n with p = .5\n",
    "def total_success(n):\n",
    "    N = 0\n",
    "    for i in range(n):\n",
    "        N = N+bern(p)\n",
    "    print('Of ', n, ' trials with probability', p,'the number of successful trials, where (U <= p) was ', N)\n",
    "    return N, N/n\n",
    "   \n",
    "\n",
    "total_success(100)"
   ]
  },
  {
   "cell_type": "code",
   "execution_count": 130,
   "metadata": {},
   "outputs": [
    {
     "name": "stdout",
     "output_type": "stream",
     "text": [
      "Of  1000  trials with probability 0.5 the number of successful trials, where (U <= p) was  510\n"
     ]
    },
    {
     "data": {
      "text/plain": [
       "(510, 0.51)"
      ]
     },
     "execution_count": 130,
     "metadata": {},
     "output_type": "execute_result"
    }
   ],
   "source": [
    "# n = 1000, p = .5\n",
    "\n",
    "# becoming increasingly accurate as n -> infinity\n",
    "\n",
    "total_success(1000)"
   ]
  },
  {
   "cell_type": "code",
   "execution_count": 131,
   "metadata": {
    "scrolled": true
   },
   "outputs": [
    {
     "name": "stdout",
     "output_type": "stream",
     "text": [
      "Of  10000  trials with probability 0.5 the number of successful trials, where (U <= p) was  4918\n"
     ]
    },
    {
     "data": {
      "text/plain": [
       "(4918, 0.4918)"
      ]
     },
     "execution_count": 131,
     "metadata": {},
     "output_type": "execute_result"
    }
   ],
   "source": [
    "# n =1000, p = .5\n",
    "\n",
    "total_success(10000)"
   ]
  },
  {
   "cell_type": "code",
   "execution_count": 19,
   "metadata": {},
   "outputs": [
    {
     "name": "stdout",
     "output_type": "stream",
     "text": [
      "Of  100  trials with probability 0.75 the number of successful trials, where (U <= p) was  73\n"
     ]
    },
    {
     "data": {
      "text/plain": [
       "(73, 0.73)"
      ]
     },
     "execution_count": 19,
     "metadata": {},
     "output_type": "execute_result"
    }
   ],
   "source": [
    "# n = 100, p = .75\n",
    "\n",
    "# adjusting the probability to .75 because why not \n",
    "p = .75\n",
    "\n",
    "total_success(100)"
   ]
  },
  {
   "cell_type": "code",
   "execution_count": 20,
   "metadata": {},
   "outputs": [
    {
     "name": "stdout",
     "output_type": "stream",
     "text": [
      "Of  1000  trials with probability 0.75 the number of successful trials, where (U <= p) was  739\n"
     ]
    },
    {
     "data": {
      "text/plain": [
       "(739, 0.739)"
      ]
     },
     "execution_count": 20,
     "metadata": {},
     "output_type": "execute_result"
    }
   ],
   "source": [
    "# n = 1000, p = .75\n",
    "\n",
    "total_success(1000)"
   ]
  },
  {
   "cell_type": "code",
   "execution_count": 21,
   "metadata": {},
   "outputs": [
    {
     "name": "stdout",
     "output_type": "stream",
     "text": [
      "Of  10000  trials with probability 0.75 the number of successful trials, where (U <= p) was  7508\n"
     ]
    },
    {
     "data": {
      "text/plain": [
       "(7508, 0.7508)"
      ]
     },
     "execution_count": 21,
     "metadata": {},
     "output_type": "execute_result"
    }
   ],
   "source": [
    "# n = 10000, p = .75\n",
    "\n",
    "total_success(10000)\n",
    "\n",
    "# Very cool and mathematical\n",
    "# as n -> infinity, the output of the total_success() function -> .75\n",
    "# the more trials performed, the more accurate the output becomes. Neat.  "
   ]
  },
  {
   "cell_type": "code",
   "execution_count": 133,
   "metadata": {},
   "outputs": [
    {
     "data": {
      "text/plain": [
       "(4915, 0.4915, [1, 1, 0, 1, 1, 0, 0, 1, 0, 0, 1, 0, 0, 1, 0, 0, 0, 0, 1, 1])"
      ]
     },
     "execution_count": 133,
     "metadata": {},
     "output_type": "execute_result"
    }
   ],
   "source": [
    "outcomes = []\n",
    "\n",
    "def binomial(n,p_star):\n",
    "    total = 0\n",
    "    for k in range(n):\n",
    "        outcomes.append(bern(p))\n",
    "        total += bern(p)\n",
    "    return total, total/n, outcomes[0:20]\n",
    "\n",
    "binomial(10,.4)\n"
   ]
  },
  {
   "cell_type": "markdown",
   "metadata": {},
   "source": [
    "## Assuming that 0 < d < 1 +r < u, we see that 0 < p* < 1 can be viewed as a probability"
   ]
  },
  {
   "cell_type": "markdown",
   "metadata": {},
   "source": [
    "# BLM path with p = .5"
   ]
  },
  {
   "cell_type": "markdown",
   "metadata": {},
   "source": [
    "# Variables and formulas "
   ]
  },
  {
   "cell_type": "code",
   "execution_count": 24,
   "metadata": {},
   "outputs": [],
   "source": [
    "T = 10\n",
    "r = 0.05\n",
    "u = 1.15\n",
    "d = 1.01\n",
    "S0 = 50\n",
    "K = 70\n",
    "p = .5\n",
    "k = k_total(T,d)"
   ]
  },
  {
   "cell_type": "code",
   "execution_count": 134,
   "metadata": {},
   "outputs": [],
   "source": [
    "# same as bern(p) function\n",
    "\n",
    "def Yrv(p_star,u,d):\n",
    "    U = random.random()\n",
    "    if U <= p_star:\n",
    "        return u\n",
    "    return d\n",
    "\n",
    "\n",
    "# sum of all k = 0 results out of T bernoulli trials \n",
    "def k_total(T,d):\n",
    "    k = 0\n",
    "    for i in range(T):\n",
    "        if Yrv(p_star,u,d) == d:\n",
    "            k += 1\n",
    "    return k"
   ]
  },
  {
   "cell_type": "code",
   "execution_count": 68,
   "metadata": {},
   "outputs": [
    {
     "data": {
      "text/plain": [
       "0.28571428571428614"
      ]
     },
     "execution_count": 68,
     "metadata": {},
     "output_type": "execute_result"
    }
   ],
   "source": []
  },
  {
   "cell_type": "code",
   "execution_count": 148,
   "metadata": {},
   "outputs": [
    {
     "data": {
      "text/plain": [
       "1.01"
      ]
     },
     "execution_count": 148,
     "metadata": {},
     "output_type": "execute_result"
    }
   ],
   "source": [
    "Yrv(p_star,u,d)"
   ]
  },
  {
   "cell_type": "code",
   "execution_count": 154,
   "metadata": {},
   "outputs": [
    {
     "data": {
      "text/plain": [
       "7"
      ]
     },
     "execution_count": 154,
     "metadata": {},
     "output_type": "execute_result"
    }
   ],
   "source": [
    "k_total(T,d)"
   ]
  },
  {
   "cell_type": "code",
   "execution_count": 155,
   "metadata": {
    "scrolled": true
   },
   "outputs": [
    {
     "name": "stdout",
     "output_type": "stream",
     "text": [
      "0\n",
      "0\n",
      "252\n",
      "10\n",
      "0.05\n",
      "1.15\n",
      "1.01\n",
      "50\n",
      "0.5\n",
      "5\n",
      "0.5\n",
      "0.0\n",
      "0.0\n",
      "0.0\n",
      "1.08\n",
      "54.0\n",
      "0.0\n",
      "0.28571428571428614\n",
      "0.0\n",
      "-67.88604338159664\n",
      "2.11395661840337\n"
     ]
    }
   ],
   "source": [
    "# ratio of k failures where k = d \n",
    "bino_dist_k = k/T\n",
    "\n",
    "#expected payoff C at T=1 for both options u and d\n",
    "C1_u = (u*S0 - K)\n",
    "C1_d = (d*S0 - K)\n",
    "\n",
    "if C1_u > 0:\n",
    "    C1_u\n",
    "else: \n",
    "    C1_u = 0\n",
    "    print(C1_u)\n",
    "    \n",
    "if C1_d > 0:\n",
    "    C1_d\n",
    "else: \n",
    "    C1_d = 0\n",
    "    print(C1_d)\n",
    "    \n",
    "p_star = (1 + r - d) / (u - d)    \n",
    "\n",
    "# share price S at time t\n",
    "St = u**k*d**(T-k)    \n",
    "\n",
    "# number of ways you can have k successes/failures from total T\n",
    "T_choose_k = math.comb(T,k)    \n",
    "\n",
    "# the risk-free return rate of putting your money in the bank with r =0.05\n",
    "disc_rate = 1 / (1+r)**T    \n",
    "\n",
    "# payoff C at time t with a strike price of K\n",
    "Ct = (St - K)    \n",
    "\n",
    "# expected payout C after 1 day\n",
    "Exp_C1 = p*C1_u + (1-p)*C1_d\n",
    "\n",
    "\n",
    "E_star_C1 = p_star*C1_u + (1-p_star)*C1_d\n",
    "\n",
    "# option price \n",
    "C_zero = 1 / (1+r) * E_star_C1\n",
    "\n",
    "\n",
    "Exp_val_Y_rv = p*u + (1-p)*d\n",
    "\n",
    "Exp_val_S1 = S0*(p*u + (1-p)*d)\n",
    "\n",
    "\n",
    "E_star_C1 = p_star*C1_u + (1-p_star)*C1_d\n",
    "\n",
    "C0_test = E_star_C1*disc_rate\n",
    "\n",
    "\n",
    "print(T_choose_k)\n",
    "print(T)\n",
    "print(r)\n",
    "print(u)\n",
    "print(d)\n",
    "print(S0)\n",
    "print(p)\n",
    "print(k)\n",
    "print(bino_dist_k)\n",
    "print(Exp_C1)\n",
    "print(E_star_C1)\n",
    "print(C_zero)\n",
    "print(Exp_val_Y_rv)\n",
    "print(Exp_val_S1)\n",
    "print(C0_test)\n",
    "print(p_star)\n",
    "print(E_star_C1)\n",
    "print(Ct)\n",
    "print(St)"
   ]
  },
  {
   "cell_type": "code",
   "execution_count": 177,
   "metadata": {
    "scrolled": true
   },
   "outputs": [
    {
     "name": "stdout",
     "output_type": "stream",
     "text": [
      "Asset price at T = 1 is 57.49999999999999\n",
      "Asset price at T = 2 is 58.074999999999996\n",
      "Asset price at T = 3 is 66.78625\n",
      "Asset price at T = 4 is 67.4541125\n",
      "Asset price at T = 5 is 68.128653625\n",
      "Asset price at T = 6 is 78.34795166874999\n",
      "Asset price at T = 7 is 90.10014441906247\n",
      "Asset price at T = 8 is 103.61516608192184\n",
      "Asset price at T = 9 is 104.65131774274106\n",
      "Asset price at T = 10 is 120.34901540415221\n"
     ]
    },
    {
     "data": {
      "text/plain": [
       "[50,\n",
       " 57.49999999999999,\n",
       " 58.074999999999996,\n",
       " 66.78625,\n",
       " 67.4541125,\n",
       " 68.128653625,\n",
       " 78.34795166874999,\n",
       " 90.10014441906247,\n",
       " 103.61516608192184,\n",
       " 104.65131774274106,\n",
       " 120.34901540415221]"
      ]
     },
     "execution_count": 177,
     "metadata": {},
     "output_type": "execute_result"
    }
   ],
   "source": [
    "# simulating the binomial lattice model\n",
    "\n",
    "# enter p, u, d\n",
    "# generate a U\n",
    "# set\n",
    "\n",
    "# BLM gives us an estimation / simulation of stock prices after T time periods\n",
    "\n",
    "def blm(S0, T, p_star, u, d):\n",
    "    blmpath = [0 for k in range(T+1)]\n",
    "    blmpath[0] = S0\n",
    "    Ysamples = [Yrv(p,u,d) for k in range(T)]\n",
    "    S = S0\n",
    "    for k in range(1,T+1):\n",
    "        S *= Ysamples[k-1]\n",
    "        blmpath[k] = S\n",
    "        print('Asset price at T =', k, 'is', blmpath[k])\n",
    "    return blmpath\n",
    "\n",
    "            \n",
    "blm(S0, T, p_star, u, d)    "
   ]
  },
  {
   "cell_type": "markdown",
   "metadata": {},
   "source": [
    "# Recycle Bin"
   ]
  },
  {
   "cell_type": "code",
   "execution_count": null,
   "metadata": {},
   "outputs": [],
   "source": []
  },
  {
   "cell_type": "markdown",
   "metadata": {},
   "source": [
    "__Problem 2:__ Recall the formula for computing the price $C_0$ of an option (derivative of the BLM stock prices) That yields a payoff at time $T$, denote by $C_T$:\n",
    "$$ C_0 = \\frac{1}{(1+r)^T}E^*(C_T), $$  \n",
    "\n",
    "where $*$ refers to the fact that we must use the value $p^*$ instead of the original (real) $P$ for the up/down probability of the BLM. (The real value of $P$ is not needed for priciing.) Also recall that for $C_T = (S_T - K)^+$, the European call option, the expected value, $E^*(S_T-K)^+$ can be computed explicitly yielding the famous Black-Scholes-Merton option pricing formula:  \n",
    "$$ C_0 = \\frac{1}{(1+r)^T}\\sum_{k=0}^{T} \\left( \\begin{array}{c}\n",
    "T \\\\ k  \\end{array} \\right )(p^*)^k(1-p^*)^{T-k}(u^k d^{T-k}S_0-K)^+ . $$  \n",
    "\n",
    "You are to use this formula to exactly obtain the price on the one hand, and then use Monte Carlo simulation on the other hand to compare and thus see how accurate the Monte Carlo method can be. \n",
    "\n",
    "Here are the parameters to use: $T = 10, r = 0.05, u = 1.15, d= 1.01, S_0 = 50, K = 70$. Recall that \n",
    "$$ p^* = \\frac{1+r-d}{u-d} . $$  \n",
    "\n",
    "For the Monte Carlo, use $n=100, n=1000, n=10,000$ _iid_ copies of $C_T$ (for averaging) to see how it gets more accurate as $n$ increases."
   ]
  },
  {
   "cell_type": "code",
   "execution_count": 86,
   "metadata": {},
   "outputs": [
    {
     "name": "stdout",
     "output_type": "stream",
     "text": [
      "Using black scholes model, price C0 of a call contact is 2.11\n"
     ]
    }
   ],
   "source": [
    "print('Using black scholes model, price C0 of a call contact is', round(St,2))"
   ]
  },
  {
   "cell_type": "code",
   "execution_count": 96,
   "metadata": {
    "scrolled": true
   },
   "outputs": [
    {
     "name": "stdout",
     "output_type": "stream",
     "text": [
      "Potential payoff C at T = 0 is 0.0\n",
      "Potential payoff C at T = 1 is 0.0\n",
      "Potential payoff C at T = 2 is 0.49019213614111024\n",
      "Potential payoff C at T = 3 is 5.637778702318261\n",
      "Potential payoff C at T = 4 is 10.419741157168945\n",
      "Potential payoff C at T = 5 is 9.77550005484951\n",
      "Potential payoff C at T = 6 is 5.515033156446881\n",
      "Potential payoff C at T = 7 is 1.957951575628911\n",
      "Potential payoff C at T = 8 is 0.4307607188766175\n",
      "Potential payoff C at T = 9 is 0.053905642079866506\n"
     ]
    },
    {
     "data": {
      "text/plain": [
       "[0.0,\n",
       " 0.0,\n",
       " 0.49019213614111024,\n",
       " 5.637778702318261,\n",
       " 10.419741157168945,\n",
       " 9.77550005484951,\n",
       " 5.515033156446881,\n",
       " 1.957951575628911,\n",
       " 0.4307607188766175,\n",
       " 0.053905642079866506]"
      ]
     },
     "execution_count": 96,
     "metadata": {},
     "output_type": "execute_result"
    }
   ],
   "source": [
    "def Yrv(p_star,u,d):\n",
    "    U = random.random()\n",
    "    if U <= p_star:\n",
    "        return u\n",
    "    return d\n",
    "    \n",
    "\n",
    "#def T_k(T, k):\n",
    "   # poss_combos = math.comb(T,k)\n",
    "    #return poss_combos\n",
    "\n",
    "def left_side(p_star, k, T):\n",
    "    ls = (p_star)**k * (1 - p_star)**(T-k)\n",
    "    return ls\n",
    "\n",
    "def right_side(u,k,d,T,S0,K):\n",
    "    rs = (u**k*d**(T-k)*S0 - K)\n",
    "    if rs > 0:\n",
    "        return rs\n",
    "    else:\n",
    "        return 0\n",
    "\n",
    "def black_scholes(T, k, r, u, d, S0, K, p):\n",
    "    disc_rate = 1 / (1+r)**T\n",
    "    C_zero = disc_rate*k*math.comb(T,k)*left_side(p_star, k, T)*right_side(u,k,d,T,S0,K)\n",
    "    return C_zero\n",
    "\n",
    "\n",
    "def bs_series(T, k, r, u, d, S0, K, p):\n",
    "    bsresults = []\n",
    "    for i in range(T):\n",
    "        bsresults.append(black_scholes(T, i, r, u, d, S0, K, p))\n",
    "        print('Potential payoff C at T =', i, 'is', bsresults[i])\n",
    "    return bsresults\n",
    "\n",
    "bs_series(T, k, r, u, d, S0, K, p)\n"
   ]
  },
  {
   "cell_type": "code",
   "execution_count": null,
   "metadata": {},
   "outputs": [],
   "source": []
  },
  {
   "cell_type": "markdown",
   "metadata": {},
   "source": [
    "# MC simulation below"
   ]
  },
  {
   "cell_type": "code",
   "execution_count": 44,
   "metadata": {
    "scrolled": true
   },
   "outputs": [
    {
     "data": {
      "text/plain": [
       "[50,\n",
       " 50.5,\n",
       " 58.074999999999996,\n",
       " 58.65575,\n",
       " 59.242307499999995,\n",
       " 59.834730574999995,\n",
       " 60.43307788075,\n",
       " 69.49803956286249,\n",
       " 79.92274549729186,\n",
       " 80.72197295226478,\n",
       " 81.52919268178742]"
      ]
     },
     "execution_count": 44,
     "metadata": {},
     "output_type": "execute_result"
    }
   ],
   "source": [
    "n = 10\n",
    "\n",
    "def blmpath_recursive(S0, n, p_star, u, d):\n",
    "    blmpath = [0 for k in range(n+1)]\n",
    "    blmpath[0] = S0\n",
    "    for k in range(1,n+1):\n",
    "        blmpath[k] = blmpath[k-1]*Yrv(p,u,d)\n",
    "    return blmpath\n",
    "\n",
    "blmpath_recursive(S0, n, p_star, u, d)"
   ]
  },
  {
   "cell_type": "code",
   "execution_count": null,
   "metadata": {
    "scrolled": true
   },
   "outputs": [],
   "source": [
    "T = 10\n",
    "k = 1\n",
    "\n",
    "def combos(T, k):\n",
    "    return math.comb(T, k)\n",
    "\n",
    "combos(T, k)\n",
    "\n",
    "# p(k) = P(X=k) = (T, choose k)"
   ]
  },
  {
   "cell_type": "code",
   "execution_count": null,
   "metadata": {},
   "outputs": [],
   "source": [
    "# use monte carlo simulation to to compare to the black scholes formula output \n",
    "# and see how accurate the monte carlo method can be\n",
    "\n",
    "# n = 100\n",
    "# n = 1000\n",
    "# n = 10000\n",
    "\n",
    "\n",
    "\n"
   ]
  },
  {
   "cell_type": "code",
   "execution_count": null,
   "metadata": {
    "scrolled": true
   },
   "outputs": [],
   "source": [
    "disc_rate = 1 / (1+r)**T\n",
    "\n",
    "p_star_k = p_star**k\n",
    "\n",
    "hello = (1-p_star)**(T-k)\n",
    "\n",
    "goodbye = (u**k)*(d**(T-k))*S0 - K\n",
    "\n",
    "\n",
    "# building C0\n",
    "# this block of code was working and now it no longer does? Why? I've made no changes? \n",
    "\n",
    "c0 = disc_rate*n_choose_k*p_star_k*hello*goodbye\n",
    "\n",
    "abs(round(c0, 7))"
   ]
  },
  {
   "cell_type": "code",
   "execution_count": null,
   "metadata": {},
   "outputs": [],
   "source": [
    "# yet the object c0 is still accurate?\n",
    "c0"
   ]
  },
  {
   "cell_type": "code",
   "execution_count": null,
   "metadata": {},
   "outputs": [],
   "source": [
    "abs(round(c0, 4))"
   ]
  },
  {
   "cell_type": "markdown",
   "metadata": {},
   "source": [
    "__Problem 3__: With the same parameters as in Problem 2, price the _Asian call option:_ The payoff $C_T$ at atime $T$ is based on the average value of the stock over the $T$ time units:\n",
    "$$ C_T = \\left( \\frac{1}{T} \\sum_{i=1}^{T} S_i-K \\right)^+ $$  \n",
    "\n",
    "Use $n=100, n=1000, n=10,000$ _iid_ copies of $C_T$ (for averaging)."
   ]
  },
  {
   "cell_type": "code",
   "execution_count": null,
   "metadata": {},
   "outputs": [],
   "source": [
    "daily_price = []\n",
    "# use n=100, 1000, 10,000 copies of Ct for averaging..\n",
    "\n",
    "# Payoff Ct is based on the average value of the stock over T time units\n",
    "    # a loop which calculates the value of the stock Ct for each T time unit... \n",
    "    # an index which stores the value Ct for each time unit T\n",
    "    # a formula to compute the average price of the stock over T time units\n",
    "\n",
    "def asian_model(T):\n",
    "    for i in range(T):\n",
    "        Ct = abs(round((1/(i+1)*bern(p)- K),3))\n",
    "        daily_price.append(Ct)\n",
    "        i += 1\n",
    "    \n",
    "    Ct_avg = round(np.average(daily_price),3)\n",
    "\n",
    "    return(Ct_avg)\n",
    "\n",
    "asian_model(T)"
   ]
  },
  {
   "cell_type": "code",
   "execution_count": null,
   "metadata": {},
   "outputs": [],
   "source": [
    "n = 1000\n",
    "\n",
    "asian_model(T)"
   ]
  },
  {
   "cell_type": "code",
   "execution_count": null,
   "metadata": {},
   "outputs": [],
   "source": [
    "n = 10000\n",
    "\n",
    "asian_model(T)"
   ]
  },
  {
   "cell_type": "markdown",
   "metadata": {},
   "source": [
    "__Problem 4__: With the same parameters as in Problem 2, but the additional parameters $n_1 = 4, n_2 =6,$ and $b=66$: price a _down and out barrier option_, that has payoff at time $T$ of  \n",
    "\n",
    "$$ C_T = (S_T -K)^+ I \\{ S_{n_1} \\geq b, S_{n_2} \\geq b \\}.$$ \n",
    "\n",
    "Use $n=100, n=1000, n=10,000$ _iid_ copies of $C_T$ (for averaging).\n",
    "\n",
    "In the above, recall that for any event $A$, $I\\{A\\}$ denotes the _indicator_ random variable defined by  \n",
    "$$ I\\{A\\} = \\left\\{ \\begin{array}{ll} 1 & \\mbox{if $A$ occurs,} \\\\ 0 & \\mbox{if $A$ does not occur.} \\end{array} \\right. $$\n",
    "\n",
    "  \n",
    "Here, $A = \\{S_{n_1} \\geq b, S_{n_2} \\geq b\\}$.\n"
   ]
  },
  {
   "cell_type": "markdown",
   "metadata": {},
   "source": [
    "\n"
   ]
  },
  {
   "cell_type": "code",
   "execution_count": null,
   "metadata": {},
   "outputs": [],
   "source": [
    "n1 = daily_price[4]\n",
    "n2 = daily_price[6]\n",
    "b= 66\n",
    "\n",
    "n = 100\n",
    "\n",
    "Ct = abs(round((1/(i+1)*bern(p)- K),3))\n",
    "\n",
    "# downandout = Ct+\n",
    "    \n",
    "Ct, n1, n2"
   ]
  },
  {
   "cell_type": "code",
   "execution_count": null,
   "metadata": {},
   "outputs": [],
   "source": []
  }
 ],
 "metadata": {
  "kernelspec": {
   "display_name": "Python 3",
   "language": "python",
   "name": "python3"
  },
  "language_info": {
   "codemirror_mode": {
    "name": "ipython",
    "version": 3
   },
   "file_extension": ".py",
   "mimetype": "text/x-python",
   "name": "python",
   "nbconvert_exporter": "python",
   "pygments_lexer": "ipython3",
   "version": "3.8.8"
  }
 },
 "nbformat": 4,
 "nbformat_minor": 1
}
